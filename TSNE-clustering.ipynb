{
 "cells": [
  {
   "cell_type": "code",
   "execution_count": null,
   "id": "0dd452fc-9c4b-47e4-9c1e-76b198bffde6",
   "metadata": {},
   "outputs": [],
   "source": [
    "# Imports\n",
    "import pandas as pd\n",
    "import numpy as np\n",
    "from sklearn.preprocessing import StandardScaler,MinMaxScaler\n",
    "from sklearn.manifold import TSNE\n",
    "from sklearn.cluster import KMeans\n",
    "import matplotlib.pyplot as plt\n",
    "import matplotlib.cm as cm\n",
    "import Functions as fns"
   ]
  },
  {
   "cell_type": "code",
   "execution_count": null,
   "id": "e301d2ec-4613-419b-9004-f3e0308ea0da",
   "metadata": {},
   "outputs": [],
   "source": [
    "# OPTION 1, import your own data: Load all protein data\n",
    "\n",
    "df_all = # INPUT File that contains all data of form (# subjects, # proteins + other variables)\n",
    "all_prots = # INPUT list of names of all proteins to perform t-SNE on \n",
    "\n",
    "print('Uploaded data contains ' + str(len(df_all)) + ' subjects and ' + str(len(all_prots)) + ' proteins.')"
   ]
  },
  {
   "cell_type": "code",
   "execution_count": null,
   "id": "8bab5a3e-56b2-474f-840a-0ef2c61105b2",
   "metadata": {},
   "outputs": [],
   "source": [
    "# OPTION 2, use the simulated data\n",
    "\n",
    " pd.read_csv('simulated_data.csv',sep=';')\n",
    "all_prots = ['protein1','protein2','protein3','protein4','protein5']\n",
    "\n",
    "# Make simulated cohort larger\n",
    "df_all[[col for col in df_all if col != 'sex']] = df_all[[col for col in df_all if col != 'sex']] + np.random.randn(np.shape(df_all)[0],np.shape(df_all)[1]-1)\n",
    "for i in range(4):\n",
    "    new_df = df_all[[col for col in df_all if col != 'sex']] + np.random.randn(np.shape(df_all)[0],np.shape(df_all)[1]-1)\n",
    "    new_df['sex'] = df_all['sex']\n",
    "    df_all = pd.concat([df_all,new_df])\n",
    "\n",
    "print('Uploaded data contains ' + str(len(df_all)) + ' subjects and ' + str(len(all_prots)) + ' proteins.')"
   ]
  },
  {
   "cell_type": "code",
   "execution_count": null,
   "id": "0bd7d3ae-bb94-4b22-9d48-02e5afba9651",
   "metadata": {},
   "outputs": [],
   "source": [
    "# Perform standard scaling and t-SNE\n",
    "\n",
    "df_prot = df_all[all_prots].dropna().reset_index(drop=True)\n",
    "df_prot_n = StandardScaler().fit_transform(df_prot)\n",
    "\n",
    "if len(all_prots) < 30:\n",
    "    perplexity = len(all_prots)-1\n",
    "else:\n",
    "    perplexity = 30 #(Default, can be changed)\n",
    "    \n",
    "tsne = TSNE(n_components=2,init='pca',random_state=1,perplexity=perplexity) #set random state for reproducability\n",
    "comps = tsne.fit_transform(df_prot_n.T)\n",
    "tsne_df = pd.DataFrame(data = comps, columns = ['comp1', 'comp2'])\n",
    "print('t-SNE done.')"
   ]
  },
  {
   "cell_type": "code",
   "execution_count": null,
   "id": "e99348e5-6c8c-44bd-99e3-a43b0b595808",
   "metadata": {},
   "outputs": [],
   "source": [
    "# Plot t-SNE results (Figure X)\n",
    "\n",
    "basecol = 'skyblue'\n",
    "plt.rcParams[\"figure.figsize\"] = (10,6)\n",
    "plt.rc('font', size=14)\n",
    "plt.scatter(tsne_df['comp1'],tsne_df['comp2'],color=basecol,s=20)\n",
    "plt.title('t-SNE')\n",
    "plt.xticks([])\n",
    "plt.yticks([])"
   ]
  },
  {
   "cell_type": "code",
   "execution_count": null,
   "id": "3ebdf04e-d409-49c1-a9e7-1ce0e25f7d2e",
   "metadata": {},
   "outputs": [],
   "source": [
    "# Color t-SNE space after certain characteristic. Example: x-axis placement\n",
    "\n",
    "characteristic = np.array(tsne_df['comp1'])# Input array of characteristic ordered as all_prots.\n",
    "\n",
    "# Set colormap\n",
    "cmap = cm.get_cmap('viridis')\n",
    "sep = np.linspace(0,1,len(all_prots))\n",
    "\n",
    "# Min max scale characteristics \n",
    "cols_scaled =MinMaxScaler(feature_range=(0, 1)).fit_transform(characteristic.T.reshape(-1,1))\n",
    "cscaled = cols_scaled.reshape(1,len(cols_scaled)).tolist()[0]\n",
    "\n",
    "# OPTIONAL Sort proteins so that those with highest values are placed out last on t-SNE map for visability\n",
    "idxs = np.argsort(cscaled,axis=0)\n",
    "cscaled = np.sort(cols_scaled,axis=0)\n",
    "\n",
    "#Plot\n",
    "plt.scatter(tsne_df['comp1'].loc[idxs],tsne_df['comp2'].loc[idxs],color=cmap(cscaled),s=20)\n",
    "plt.title('t-SNE')\n",
    "plt.xticks([])\n",
    "plt.yticks([])"
   ]
  },
  {
   "cell_type": "code",
   "execution_count": null,
   "id": "e2ed322e-1535-48f3-bb0f-87b9aa801056",
   "metadata": {
    "tags": []
   },
   "outputs": [],
   "source": [
    "# Perform K-means clustering \n",
    "\n",
    "n_clusters= 2# set prefered number, 20 was used in the manuscript\n",
    "kmeans = KMeans(n_clusters=n_clusters, random_state=1)  #set random state for reproducability\n",
    "clusters = kmeans.fit(tsne_df)\n",
    "cluster_labels = clusters.labels_\n",
    "\n",
    "print('K-means done.')"
   ]
  },
  {
   "cell_type": "code",
   "execution_count": null,
   "id": "fdafa6aa-3eba-48d1-bac8-34f4fd6a2702",
   "metadata": {},
   "outputs": [],
   "source": [
    "# Plot K-means results in t-SNE plot (Figure X)\n",
    "\n",
    "plt.rcParams[\"figure.figsize\"] = (10,6)\n",
    "colors = cm.tab20(np.linspace(0, 1, n_clusters))\n",
    "for i,col in zip(range(n_clusters),colors):\n",
    "    clust_idx = cluster_labels == i\n",
    "    plt.scatter(tsne_df['comp1'][clust_idx],tsne_df['comp2'][clust_idx],label='Cluster ' + str(i),color=col,s=20)\n",
    "#plt.legend()  #Uncomment to check cluster number color\n",
    "plt.title('t-SNE')\n",
    "plt.xticks([])\n",
    "plt.yticks([])"
   ]
  },
  {
   "cell_type": "code",
   "execution_count": null,
   "id": "f579dae2-d10a-443e-92f5-56005db25362",
   "metadata": {},
   "outputs": [],
   "source": [
    "# Select baseline variables and X,y for cross validation of association 1\n",
    "\n",
    "baseline_vars = ['protein1','age'] # INPUT of form [main predictor, confounders]\n",
    "X = df_all[all_prots[1:] + baseline_vars]\n",
    "y = df_all['sex']# INPUT division into X and y of DataFrame depending on model. \n",
    "\n",
    "\n",
    "# Baseline comparison without reference\n",
    "baseline_AUC = fns.get_mean_AUC_score(X,y,baseline_vars)\n",
    "\n",
    "# Examine cluster wise reference results for tau association \n",
    "best_AUCs = []\n",
    "best_AUCs_names = []\n",
    "for n in range(n_clusters):\n",
    "    clust_idx = cluster_labels == n\n",
    "    test_cands = [prot for prot,i in zip(all_prots,range(len(clust_idx))) if clust_idx[i]]\n",
    "    best_AUC, names_best_AUC = fns.get_best_candidates(X,y,test_cands,baseline_vars,amount=len(test_cands), n_splits=10)\n",
    "    best_AUCs.append(best_AUC)\n",
    "    best_AUCs_names.append(names_best_AUC)"
   ]
  },
  {
   "cell_type": "code",
   "execution_count": null,
   "id": "ccb2b8ab-705e-491f-8a9a-bc54ec1ae0c3",
   "metadata": {},
   "outputs": [],
   "source": [
    "# Plot cluster wise AUC results for association \n",
    "\n",
    "plt.rcParams[\"figure.figsize\"] = (12,6)\n",
    "plt.axhline(baseline_AUC,color='black',linestyle='dashed',label='Baseline')\n",
    "for clust_AUC,col,i in zip(best_AUCs,colors,range(n_clusters)):\n",
    "    plt.errorbar(i,np.mean(clust_AUC),np.std(clust_AUC),fmt = 'o',color = 'black',\n",
    "                ecolor = col, elinewidth = 5, capsize=10)\n",
    "\n",
    "plt.title('Association 1')\n",
    "plt.xlabel('Cluster Number')\n",
    "plt.xticks(np.arange(0,n_clusters,1))\n",
    "plt.ylabel('AUC')\n",
    "plt.legend()"
   ]
  }
 ],
 "metadata": {
  "kernelspec": {
   "display_name": "Python 3 (ipykernel)",
   "language": "python",
   "name": "python3"
  },
  "language_info": {
   "codemirror_mode": {
    "name": "ipython",
    "version": 3
   },
   "file_extension": ".py",
   "mimetype": "text/x-python",
   "name": "python",
   "nbconvert_exporter": "python",
   "pygments_lexer": "ipython3",
   "version": "3.9.7"
  }
 },
 "nbformat": 4,
 "nbformat_minor": 5
}
