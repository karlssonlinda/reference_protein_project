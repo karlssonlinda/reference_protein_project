{
 "cells": [
  {
   "cell_type": "code",
   "execution_count": null,
   "id": "ca636ebb-ae23-4f35-9f3f-58472c6626b0",
   "metadata": {},
   "outputs": [],
   "source": [
    "import pandas as pd\n",
    "import numpy as np\n",
    "import Functions as fns\n",
    "import matplotlib.pyplot as plt"
   ]
  },
  {
   "cell_type": "code",
   "execution_count": null,
   "id": "4b684b62-72b2-4cea-94a5-a2b57a55f516",
   "metadata": {},
   "outputs": [],
   "source": [
    "# Load all protein data\n",
    "\n",
    "df_all = # INPUT File that contains all data of form (# subjects, # proteins + other variables)\n",
    "candidates = # INPUT list of names of candidates to perform robustness analysis on\n",
    "pred =  # INPUT list of main predictor and confounders\n",
    "X,y =  # INPUT division into X and y of DataFrame depending on association to test. \n",
    "\n",
    "print('Uploaded data contains ' + str(len(df_all)) + ' subjects and the robustness analysis is to be done on ' + str(len(candidates)) + ' proteins.')"
   ]
  },
  {
   "cell_type": "code",
   "execution_count": null,
   "id": "b322b43d-9aba-45d9-a508-03d6c0eefd63",
   "metadata": {},
   "outputs": [],
   "source": [
    "# Perform noise analysis. Make sure to select range of noise levels, noise type and if the analysis should be performed with an svd or not.\n",
    "\n",
    "aucs = []\n",
    "noise_levels = np.arange(0,1,0.02) # Adjust to examine different noise levels\n",
    "nt = 1 #noise type, 1 (measurement noise) or 2 (assay drift)\n",
    "svd = True # True if with svd, False if not\n",
    "\n",
    "for nl in noise_levels:\n",
    "    auc = 0\n",
    "    \n",
    "    for i in range(20):\n",
    "        X_trains,X_tests,y_trains,y_tests = fns.prep_folds_with_noise(X,y,nt=nt, strength = nl,candidates=candidates)\n",
    "        \n",
    "        for X_train,X_test,y_train,y_test in zip(X_trains,X_tests,y_trains,y_tests):\n",
    "            X_train = pd.DataFrame(X_train, columns=X.columns)\n",
    "            X_test = pd.DataFrame(X_test, columns=X.columns)\n",
    "            rand = np.random.permutation(10)          \n",
    "            if svd:\n",
    "                auc = auc + fns.get_svd_score(X_train,X_test,y_train,y_test,candidates,pred)\n",
    "            else:\n",
    "                auc= auc + fns.get_svd_score(X_train,X_test,y_train,y_test,[candidates[rand[0]]],pred)\n",
    "    aucs.append(auc/(10*(i+1)))\n",
    "    \n",
    "print('Noise analysis done.')"
   ]
  },
  {
   "cell_type": "code",
   "execution_count": null,
   "id": "fca93e9f-f996-4ee5-b400-f50235e7842d",
   "metadata": {},
   "outputs": [],
   "source": [
    "# Plot results\n",
    "plt.plot(noise_levels,aucs)\n",
    "plt.xlabel('Noise Level')\n",
    "plt.ylabel('AUC')"
   ]
  }
 ],
 "metadata": {
  "kernelspec": {
   "display_name": "Python 3 (ipykernel)",
   "language": "python",
   "name": "python3"
  },
  "language_info": {
   "codemirror_mode": {
    "name": "ipython",
    "version": 3
   },
   "file_extension": ".py",
   "mimetype": "text/x-python",
   "name": "python",
   "nbconvert_exporter": "python",
   "pygments_lexer": "ipython3",
   "version": "3.9.7"
  }
 },
 "nbformat": 4,
 "nbformat_minor": 5
}
