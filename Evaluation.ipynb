{
 "cells": [
  {
   "cell_type": "code",
   "execution_count": null,
   "id": "b02127f3-64b1-4be4-aa1d-cce5e12fa450",
   "metadata": {},
   "outputs": [],
   "source": [
    "import pandas as pd\n",
    "import numpy as np\n",
    "import Functions as fns\n",
    "import matplotlib.pyplot as plt\n",
    "import pingouin as pg"
   ]
  },
  {
   "cell_type": "code",
   "execution_count": null,
   "id": "a56198a5-a70a-4049-96b4-a6f75abe57cd",
   "metadata": {},
   "outputs": [],
   "source": [
    "# Load all protein data\n",
    "\n",
    "df = #INPUT dataframe \n",
    "X,y =  # INPUT division into X and y of DataFrame depending on association to test. \n",
    "main = #INPUT list of main predictor and confounders\n",
    "\n",
    "print('Uploaded data contains ' + str(len(df_all)) + ' subjects and the robustness analysis is to be done on ' + str(len(candidates)) + ' proteins.')"
   ]
  },
  {
   "cell_type": "markdown",
   "id": "e455ba70-b719-4aee-b178-7fc9b5f5890e",
   "metadata": {},
   "source": [
    "### Evaluate reference in logistic regression model"
   ]
  },
  {
   "cell_type": "code",
   "execution_count": null,
   "id": "063c03a1-6b65-47d9-99f9-417a6356943a",
   "metadata": {},
   "outputs": [],
   "source": [
    "# Perform bootstrapping of the roc auc scores with or without references, as single reference, or svd/mean of several.\n",
    "\n",
    "kind = 0 # 0 for test with a single reference, 1 for test with svd of several references and 2 for test with mean level of several references\n",
    "prots = [] # INPUT list of protein(s) to use as reference\n",
    "\n",
    "X_ref = X[main + prots]\n",
    "auc = fns.bootstrap_roc_auc(X_ref,y,kind=kind,prots=prots)\n",
    "print('Mean AUC score: ' + str(np.mean(auc)))"
   ]
  },
  {
   "cell_type": "code",
   "execution_count": null,
   "id": "e3c87732-9078-43d5-9f6e-77cae9a6c906",
   "metadata": {},
   "outputs": [],
   "source": [
    "# Plot results\n",
    "\n",
    "width = 0.5\n",
    "plt.bar(1,np.mean(auc),width=width)\n",
    "plt.axis([0,2,0,1])\n",
    "#plt.grid(alpha=0.3)"
   ]
  },
  {
   "cell_type": "code",
   "execution_count": null,
   "id": "07bec86b-db48-4224-a108-05c5d4d30dc9",
   "metadata": {},
   "outputs": [],
   "source": [
    "# Print confidence interval \n",
    "print('CI lower AUC: ' + str(sorted(auc)[50]))\n",
    "print('CI upper AUC: ' + str(sorted(auc)[1949]))"
   ]
  },
  {
   "cell_type": "markdown",
   "id": "7208800e-1099-4a47-b014-e194964ef668",
   "metadata": {},
   "source": [
    "### Compare two references in logistic regression model"
   ]
  },
  {
   "cell_type": "code",
   "execution_count": null,
   "id": "09c4e47d-f251-478e-8e58-08c36daf1fbb",
   "metadata": {},
   "outputs": [],
   "source": [
    "prots1 = #INPUT list of first reference\n",
    "prots2 = #INPUT list of second reference\n",
    "\n",
    "# 0 for test with a single reference, 1 for test with svd of several references and 2 for test with mean level of several references\n",
    "kind1 = # INPUT kind for first reference\n",
    "kind2 = # INPUT kind for second reference\n",
    "\n",
    "X_use = X[main + prots1 + prots2]\n",
    "n_iter=2000\n",
    "roc_auc_diff,auc1,auc2 = fns.test_bootstrap_roc_auc(X_use, y, main=main, prots1 = prots1, kind1 = kind1, prots2 = prots2, kind2 = kind2,n_iter=n_iter)"
   ]
  },
  {
   "cell_type": "code",
   "execution_count": null,
   "id": "cb5d2fba-e79c-4aa7-b714-b2a3378b5bb6",
   "metadata": {},
   "outputs": [],
   "source": [
    "# Test significance \n",
    "print('Mean AUC difference: ' + str(np.mean(roc_auc_diff)))\n",
    "impr = [val for val in roc_auc_diff if val > 0]\n",
    "print('P-value AUC difference: ' + str(1 - len(impr)/n_iter))"
   ]
  },
  {
   "cell_type": "markdown",
   "id": "ac4c7c3a-039a-4547-ae5c-3505a02033fb",
   "metadata": {},
   "source": [
    "### Linear regressions "
   ]
  },
  {
   "cell_type": "code",
   "execution_count": null,
   "id": "343dfc6e-4f9e-4d60-8db4-3ea8dad1a581",
   "metadata": {},
   "outputs": [],
   "source": [
    "main_pred = # INPUT name of main predictor\n",
    "outcome = #INPUT name of outcome variable\n",
    "confounders = #INPUT list of confounders\n",
    "\n",
    "betas, pvals = fns.get_linreg(df, main_pred=main_pred,outcome=outcome,confounder=confounders)"
   ]
  },
  {
   "cell_type": "code",
   "execution_count": null,
   "id": "e54cdb8e-d271-4909-867a-d7ab719ccb1a",
   "metadata": {},
   "outputs": [],
   "source": [
    "print('Betas: \\n' + str(betas))"
   ]
  },
  {
   "cell_type": "code",
   "execution_count": null,
   "id": "1ecf52df-a284-48d2-82fe-29a973e83595",
   "metadata": {},
   "outputs": [],
   "source": [
    "print('P-values: \\n' + str(pvals))"
   ]
  },
  {
   "cell_type": "markdown",
   "id": "5945efe7-3f98-416c-a282-c75e811e875c",
   "metadata": {},
   "source": [
    "### Partial Correlations"
   ]
  },
  {
   "cell_type": "code",
   "execution_count": null,
   "id": "63a0d6a9-bdc8-4f49-8f6e-e2d6f24cc3fb",
   "metadata": {},
   "outputs": [],
   "source": [
    "x = # INPUT name of main predictor\n",
    "y = #INPUT name of outcome variable\n",
    "covars = #INPUT list of covariates\n",
    "\n",
    "p_corr = pg.partial_corr(data=df, x=x, y=y, covar=covars).r['pearson']"
   ]
  },
  {
   "cell_type": "code",
   "execution_count": null,
   "id": "b937fe74-a203-49f4-81cf-3a9514124cd7",
   "metadata": {},
   "outputs": [],
   "source": [
    "print('Partial correlation: ' + str(p_corr))"
   ]
  }
 ],
 "metadata": {
  "kernelspec": {
   "display_name": "Python 3 (ipykernel)",
   "language": "python",
   "name": "python3"
  },
  "language_info": {
   "codemirror_mode": {
    "name": "ipython",
    "version": 3
   },
   "file_extension": ".py",
   "mimetype": "text/x-python",
   "name": "python",
   "nbconvert_exporter": "python",
   "pygments_lexer": "ipython3",
   "version": "3.9.7"
  }
 },
 "nbformat": 4,
 "nbformat_minor": 5
}
